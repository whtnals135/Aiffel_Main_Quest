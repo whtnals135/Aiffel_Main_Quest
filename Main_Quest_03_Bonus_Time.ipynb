{
 "cells": [
  {
   "cell_type": "markdown",
   "id": "6a73869c",
   "metadata": {},
   "source": [
    "# 가위바위보 분류기 만들기\n"
   ]
  },
  {
   "cell_type": "code",
   "execution_count": 2,
   "id": "0a8df153",
   "metadata": {},
   "outputs": [
    {
     "name": "stdout",
     "output_type": "stream",
     "text": [
      "2.6.0\n",
      "1.22.2\n"
     ]
    }
   ],
   "source": [
    "import tensorflow as tf\n",
    "import numpy as np\n",
    "from sklearn.preprocessing import StandardScaler\n",
    "\n",
    "print(tf.__version__)\n",
    "print(np.__version__)"
   ]
  },
  {
   "cell_type": "code",
   "execution_count": 1,
   "id": "55add974",
   "metadata": {},
   "outputs": [
    {
     "name": "stdout",
     "output_type": "stream",
     "text": [
      "PIL 라이브러리 import 완료!\n"
     ]
    }
   ],
   "source": [
    "from PIL import Image\n",
    "import glob\n",
    "import os\n",
    "\n",
    "print(\"PIL 라이브러리 import 완료!\")"
   ]
  },
  {
   "cell_type": "code",
   "execution_count": null,
   "id": "e86967dd",
   "metadata": {},
   "outputs": [],
   "source": [
    "def resize_images(img_path, target_path):\n",
    "    images=glob.glob(img_path + \"/*.jpg\")  \n",
    "    \n",
    "    print(len(images), \" images to be resized.\")\n",
    "\n",
    "    # 파일마다 모두 28x28 사이즈로 바꾸어 저장.\n",
    "    target_size=(56, 56)\n",
    "    for img in images:\n",
    "        old_img=Image.open(img)\n",
    "        img_name = old_img.filename.split('/')[-1]\n",
    "        new_img=old_img.resize(target_size,Image.ANTIALIAS)\n",
    "        new_img.save(target_path+img_name, \"JPEG\")\n",
    "        \n",
    "    print(len(images), \" images resized.\")"
   ]
  },
  {
   "cell_type": "markdown",
   "id": "dc0d1a59",
   "metadata": {},
   "source": [
    "## Save Resized Training set"
   ]
  },
  {
   "cell_type": "code",
   "execution_count": 22,
   "id": "e988e47d",
   "metadata": {},
   "outputs": [
    {
     "name": "stdout",
     "output_type": "stream",
     "text": [
      "521  images to be resized.\n",
      "521  images resized.\n",
      "가위 이미지 resize 완료!\n"
     ]
    }
   ],
   "source": [
    "# 가위 이미지가 저장된 디렉토리 아래의 모든 jpg 파일을 읽어들여서\n",
    "image_dir_path = os.getenv(\"HOME\") + \"/aiffel/rock_scissor_paper_train/scissor/\"\n",
    "target_path = os.getenv(\"HOME\") + \"/aiffel/rock_scissor_paper_train_resized/scissor/\"\n",
    "resize_images(image_dir_path, target_path)\n",
    "\n",
    "print(\"가위 이미지 resize 완료!\")"
   ]
  },
  {
   "cell_type": "code",
   "execution_count": 25,
   "id": "30a6316f",
   "metadata": {},
   "outputs": [
    {
     "name": "stdout",
     "output_type": "stream",
     "text": [
      "408  images to be resized.\n",
      "408  images resized.\n",
      "바위 이미지 resize 완료!\n"
     ]
    }
   ],
   "source": [
    "# 바위 이미지가 저장된 디렉토리 아래의 모든 jpg 파일을 읽어들여서\n",
    "image_dir_path = os.getenv(\"HOME\") + \"/aiffel/rock_scissor_paper_train/rock/\"\n",
    "target_path = os.getenv(\"HOME\") + \"/aiffel/rock_scissor_paper_train_resized/rock/\"\n",
    "\n",
    "resize_images(image_dir_path, target_path)\n",
    "print(\"바위 이미지 resize 완료!\")"
   ]
  },
  {
   "cell_type": "code",
   "execution_count": 26,
   "id": "fc029e4a",
   "metadata": {},
   "outputs": [
    {
     "name": "stdout",
     "output_type": "stream",
     "text": [
      "506  images to be resized.\n",
      "506  images resized.\n",
      "보 이미지 resize 완료!\n"
     ]
    }
   ],
   "source": [
    "# 보 이미지가 저장된 디렉토리 아래의 모든 jpg 파일을 읽어들여서\n",
    "image_dir_path = os.getenv(\"HOME\") + \"/aiffel/rock_scissor_paper_train/paper/\"\n",
    "target_path = os.getenv(\"HOME\") + \"/aiffel/rock_scissor_paper_train_resized/paper/\"\n",
    "\n",
    "resize_images(image_dir_path, target_path)\n",
    "print(\"보 이미지 resize 완료!\")"
   ]
  },
  {
   "cell_type": "markdown",
   "id": "5f26a485",
   "metadata": {},
   "source": [
    "## Save Resized Test set"
   ]
  },
  {
   "cell_type": "code",
   "execution_count": 27,
   "id": "e220546e",
   "metadata": {},
   "outputs": [
    {
     "name": "stdout",
     "output_type": "stream",
     "text": [
      "100  images to be resized.\n",
      "100  images resized.\n",
      "test용 가위 이미지 resize 완료!\n",
      "100  images to be resized.\n",
      "100  images resized.\n",
      "test용 바위 이미지 resize 완료!\n",
      "100  images to be resized.\n",
      "100  images resized.\n",
      "test용 보 이미지 resize 완료!\n"
     ]
    }
   ],
   "source": [
    "# 테스트용 데이터 가위,바위,보에 대하여 이미지 사이즈 조정하기\n",
    "\n",
    "# 가위 이미지가 저장된 디렉토리 아래의 모든 jpg 파일을 읽어들여서\n",
    "image_dir_path = os.getenv(\"HOME\") + \"/aiffel/rock_scissor_paper_test/scissor/\"\n",
    "target_path = os.getenv(\"HOME\") + \"/aiffel/rock_scissor_paper_test_resized/scissor/\"\n",
    "resize_images(image_dir_path, target_path)\n",
    "\n",
    "print(\"test용 가위 이미지 resize 완료!\")\n",
    "\n",
    "# 바위 이미지가 저장된 디렉토리 아래의 모든 jpg 파일을 읽어들여서\n",
    "image_dir_path = os.getenv(\"HOME\") + \"/aiffel/rock_scissor_paper_test/rock/\"\n",
    "target_path = os.getenv(\"HOME\") + \"/aiffel/rock_scissor_paper_test_resized/rock/\"\n",
    "resize_images(image_dir_path, target_path)\n",
    "\n",
    "print(\"test용 바위 이미지 resize 완료!\")\n",
    "\n",
    "# 보 이미지가 저장된 디렉토리 아래의 모든 jpg 파일을 읽어들여서 \n",
    "image_dir_path = os.getenv(\"HOME\") + \"/aiffel/rock_scissor_paper_test/paper/\"\n",
    "target_path = os.getenv(\"HOME\") + \"/aiffel/rock_scissor_paper_test_resized/paper/\"\n",
    "resize_images(image_dir_path, target_path)\n",
    "\n",
    "print(\"test용 보 이미지 resize 완료!\")"
   ]
  },
  {
   "cell_type": "markdown",
   "id": "244391e4",
   "metadata": {},
   "source": [
    "# Load dataset"
   ]
  },
  {
   "cell_type": "code",
   "execution_count": 3,
   "id": "4fdb90a1",
   "metadata": {},
   "outputs": [],
   "source": [
    "import numpy as np\n",
    "\n",
    "def load_data(img_path, number_of_data=1435):  # 가위바위보 이미지 개수 총합에 주의하세요.\n",
    "    # 가위 : 0, 바위 : 1, 보 : 2\n",
    "    img_size=56 # 사이즈를 좀 키워서 해보자\n",
    "    color=3\n",
    "    #이미지 데이터와 라벨(가위 : 0, 바위 : 1, 보 : 2) 데이터를 담을 행렬(matrix) 영역을 생성합니다.\n",
    "    imgs=np.zeros(number_of_data*img_size*img_size*color,dtype=np.int32).reshape(number_of_data,img_size,img_size,color)\n",
    "    labels=np.zeros(number_of_data,dtype=np.int32)\n",
    "    idx=0\n",
    "    for file in glob.iglob(img_path+'/scissor/*.jpg'):\n",
    "        img = np.array(Image.open(file),dtype=np.int32)\n",
    "        img = img.reshape(img_size, img_size, color)\n",
    "        imgs[idx,:,:,:]=img    # 데이터 영역에 이미지 행렬을 복사\n",
    "        labels[idx]=0   # 가위 : 0\n",
    "        idx=idx+1\n",
    "\n",
    "    for file in glob.iglob(img_path+'/rock/*.jpg'):\n",
    "        img = np.array(Image.open(file),dtype=np.int32)\n",
    "        img = img.reshape(img_size, img_size, color)\n",
    "        imgs[idx,:,:,:]=img    # 데이터 영역에 이미지 행렬을 복사\n",
    "        labels[idx]=1   # 바위 : 1\n",
    "        idx=idx+1  \n",
    "    \n",
    "    for file in glob.iglob(img_path+'/paper/*.jpg'):\n",
    "        img = np.array(Image.open(file),dtype=np.int32)\n",
    "        img = img.reshape(img_size, img_size, color)\n",
    "        imgs[idx,:,:,:]=img    # 데이터 영역에 이미지 행렬을 복사\n",
    "        labels[idx]=2   # 보 : 2\n",
    "        idx=idx+1\n",
    "        \n",
    "    print(\"학습데이터(x_train)의 이미지 개수는\", idx,\"입니다.\")\n",
    "    return imgs, labels\n",
    "\n",
    "\n",
    "def load_data2(img_path_, number_of_data_=300):  \n",
    "    # 가위, 바위, 보 이미지 데이터를 담을 행렬(matrix) 영역을 생성합니다.\n",
    "    img_size_ = 56\n",
    "    color_ = 3\n",
    "    imgs_ = np.zeros(number_of_data_ * img_size_ * img_size_ * color_, dtype=np.int32).reshape(number_of_data_, img_size_, img_size_, color_)\n",
    "    labels_ = np.zeros(number_of_data_, dtype=np.int32)\n",
    "\n",
    "    idx = 0\n",
    "    for file in glob.iglob(img_path_+'/scissor/*.jpg'):\n",
    "        img_ = np.array(Image.open(file), dtype=np.int32)\n",
    "        img_ = img_.reshape(img_size_, img_size_, color_)\n",
    "        imgs_[idx, :, :, :] = img_    # 데이터 영역에 이미지 행렬을 복사\n",
    "        labels_[idx] = 0   # 가위 : 0\n",
    "        idx += 1\n",
    "\n",
    "    for file in glob.iglob(img_path_+'/rock/*.jpg'):\n",
    "        img_ = np.array(Image.open(file), dtype=np.int32)\n",
    "        img_ = img_.reshape(img_size_, img_size_, color_)\n",
    "        imgs_[idx, :, :, :] = img_    # 데이터 영역에 이미지 행렬을 복사\n",
    "        labels_[idx] = 1   # 바위 : 1\n",
    "        idx += 1  \n",
    "    \n",
    "    for file in glob.iglob(img_path_+'/paper/*.jpg'):\n",
    "        img_ = np.array(Image.open(file), dtype=np.int32)\n",
    "        img_ = img_.reshape(img_size_, img_size_, color_)\n",
    "        imgs_[idx, :, :, :] = img_    # 데이터 영역에 이미지 행렬을 복사\n",
    "        labels_[idx] = 2   # 보 : 2\n",
    "        idx += 1\n",
    "        \n",
    "    print(\"학습데이터(x_test)의 이미지 개수는\", idx, \"입니다.\")\n",
    "    return imgs_, labels_"
   ]
  },
  {
   "cell_type": "code",
   "execution_count": 55,
   "id": "a0f576d2",
   "metadata": {},
   "outputs": [
    {
     "name": "stdout",
     "output_type": "stream",
     "text": [
      "학습데이터(x_train)의 이미지 개수는 1435 입니다.\n",
      "x_train shape: (1435, 56, 56, 3)\n",
      "y_train shape: (1435,)\n"
     ]
    }
   ],
   "source": [
    "image_dir_path = os.getenv(\"HOME\") + \"/aiffel/rock_scissor_paper_train_resized\"\n",
    "(x_train_1, y_train_1)=load_data(image_dir_path)\n",
    "\n",
    "print(\"x_train shape: {}\".format(x_train_1.shape))\n",
    "print(\"y_train shape: {}\".format(y_train_1.shape))"
   ]
  },
  {
   "cell_type": "code",
   "execution_count": 56,
   "id": "56284722",
   "metadata": {},
   "outputs": [
    {
     "name": "stdout",
     "output_type": "stream",
     "text": [
      "학습데이터(x_test)의 이미지 개수는 300 입니다.\n",
      "x_test shape: (300, 56, 56, 3)\n",
      "y_test shape: (300,)\n"
     ]
    }
   ],
   "source": [
    "image_dir_path = os.getenv(\"HOME\") + \"/aiffel/rock_scissor_paper_test_resized\"\n",
    "(x_train_2, y_train_2)=load_data2(image_dir_path)\n",
    "\n",
    "print(\"x_test shape: {}\".format(x_train_2.shape))\n",
    "print(\"y_test shape: {}\".format(y_train_2.shape))"
   ]
  },
  {
   "cell_type": "code",
   "execution_count": 62,
   "id": "855c1509",
   "metadata": {},
   "outputs": [
    {
     "name": "stdout",
     "output_type": "stream",
     "text": [
      "x_train shape: (1735, 56, 56, 3)\n",
      "y_train shape: (1735,)\n"
     ]
    }
   ],
   "source": [
    "x_train = np.concatenate((x_train_1, x_train_2))\n",
    "y_train = np.concatenate((y_train_1, y_train_2))\n",
    "\n",
    "print(\"x_train shape: {}\".format(x_train.shape))\n",
    "print(\"y_train shape: {}\".format(y_train.shape))"
   ]
  },
  {
   "cell_type": "code",
   "execution_count": 63,
   "id": "f72556f4",
   "metadata": {},
   "outputs": [],
   "source": [
    "from sklearn.model_selection import train_test_split"
   ]
  },
  {
   "cell_type": "code",
   "execution_count": 64,
   "id": "cad02692",
   "metadata": {},
   "outputs": [],
   "source": [
    "x_train, x_test, y_train, y_test = train_test_split(x_train, y_train, test_size=300, random_state=42)\n",
    "x_train.shape, x_test.shape, y_train.shape, y_test.shape"
   ]
  },
  {
   "cell_type": "code",
   "execution_count": 67,
   "id": "33553842",
   "metadata": {},
   "outputs": [],
   "source": [
    "x_train_norm = (x_train / 255.0) - 0.5\n",
    "x_test_norm = (x_test / 255.0) - 0.5"
   ]
  },
  {
   "cell_type": "markdown",
   "id": "4f1b2f71",
   "metadata": {},
   "source": [
    "## Training"
   ]
  },
  {
   "cell_type": "code",
   "execution_count": 73,
   "id": "46927efe",
   "metadata": {},
   "outputs": [
    {
     "name": "stdout",
     "output_type": "stream",
     "text": [
      "Model: \"sequential_5\"\n",
      "_________________________________________________________________\n",
      "Layer (type)                 Output Shape              Param #   \n",
      "=================================================================\n",
      "conv2d_10 (Conv2D)           (None, 54, 54, 32)        896       \n",
      "_________________________________________________________________\n",
      "max_pooling2d_10 (MaxPooling (None, 27, 27, 32)        0         \n",
      "_________________________________________________________________\n",
      "conv2d_11 (Conv2D)           (None, 25, 25, 64)        18496     \n",
      "_________________________________________________________________\n",
      "max_pooling2d_11 (MaxPooling (None, 12, 12, 64)        0         \n",
      "_________________________________________________________________\n",
      "flatten_5 (Flatten)          (None, 9216)              0         \n",
      "_________________________________________________________________\n",
      "dense_10 (Dense)             (None, 64)                589888    \n",
      "_________________________________________________________________\n",
      "dense_11 (Dense)             (None, 3)                 195       \n",
      "=================================================================\n",
      "Total params: 609,475\n",
      "Trainable params: 609,475\n",
      "Non-trainable params: 0\n",
      "_________________________________________________________________\n"
     ]
    }
   ],
   "source": [
    "import tensorflow as tf\n",
    "from tensorflow import keras\n",
    "import numpy as np\n",
    "\n",
    "# model 만들기\n",
    "# Hint! model의 입력/출력부에 특히 유의\n",
    "model = keras.models.Sequential()\n",
    "model.add(keras.layers.Conv2D(32, (3,3), activation='relu', input_shape=(56,56,3), kernel_regularizer='l2'))\n",
    "model.add(keras.layers.MaxPool2D(2,2))\n",
    "model.add(keras.layers.Conv2D(64, (3,3), activation='relu', kernel_regularizer='l2'))\n",
    "model.add(keras.layers.MaxPool2D(2,2))\n",
    "model.add(keras.layers.Flatten())\n",
    "model.add(keras.layers.Dense(64, activation='relu', kernel_regularizer='l2'))\n",
    "model.add(keras.layers.Dense(3, activation='softmax'))\n",
    "\n",
    "model.summary()"
   ]
  },
  {
   "cell_type": "code",
   "execution_count": 74,
   "id": "60187162",
   "metadata": {},
   "outputs": [
    {
     "name": "stdout",
     "output_type": "stream",
     "text": [
      "Epoch 1/20\n",
      "12/12 [==============================] - 7s 542ms/step - loss: 2.2035 - accuracy: 0.5523 - val_loss: 1.6138 - val_accuracy: 0.5749\n",
      "Epoch 2/20\n",
      "12/12 [==============================] - 6s 536ms/step - loss: 1.2836 - accuracy: 0.7195 - val_loss: 1.0475 - val_accuracy: 0.8571\n",
      "Epoch 3/20\n",
      "12/12 [==============================] - 6s 531ms/step - loss: 0.9366 - accuracy: 0.8389 - val_loss: 0.8499 - val_accuracy: 0.8780\n",
      "Epoch 4/20\n",
      "12/12 [==============================] - 6s 529ms/step - loss: 0.7417 - accuracy: 0.9085 - val_loss: 0.7054 - val_accuracy: 0.9268\n",
      "Epoch 5/20\n",
      "12/12 [==============================] - 6s 538ms/step - loss: 0.6719 - accuracy: 0.9155 - val_loss: 0.7252 - val_accuracy: 0.8850\n",
      "Epoch 6/20\n",
      "12/12 [==============================] - 6s 530ms/step - loss: 0.6141 - accuracy: 0.9286 - val_loss: 0.6375 - val_accuracy: 0.9233\n",
      "Epoch 7/20\n",
      "12/12 [==============================] - 6s 532ms/step - loss: 0.5362 - accuracy: 0.9547 - val_loss: 0.5370 - val_accuracy: 0.9233\n",
      "Epoch 8/20\n",
      "12/12 [==============================] - 6s 531ms/step - loss: 0.4707 - accuracy: 0.9660 - val_loss: 0.5699 - val_accuracy: 0.8920\n",
      "Epoch 9/20\n",
      "12/12 [==============================] - 6s 530ms/step - loss: 0.4363 - accuracy: 0.9695 - val_loss: 0.4538 - val_accuracy: 0.9582\n",
      "Epoch 10/20\n",
      "12/12 [==============================] - 6s 526ms/step - loss: 0.4368 - accuracy: 0.9625 - val_loss: 0.3971 - val_accuracy: 0.9826\n",
      "Epoch 11/20\n",
      "12/12 [==============================] - 6s 534ms/step - loss: 0.3852 - accuracy: 0.9791 - val_loss: 0.4215 - val_accuracy: 0.9547\n",
      "Epoch 12/20\n",
      "12/12 [==============================] - 6s 526ms/step - loss: 0.3562 - accuracy: 0.9808 - val_loss: 0.4000 - val_accuracy: 0.9477\n",
      "Epoch 13/20\n",
      "12/12 [==============================] - 6s 540ms/step - loss: 0.3414 - accuracy: 0.9861 - val_loss: 0.3422 - val_accuracy: 0.9756\n",
      "Epoch 14/20\n",
      "12/12 [==============================] - 6s 536ms/step - loss: 0.3315 - accuracy: 0.9791 - val_loss: 0.3853 - val_accuracy: 0.9582\n",
      "Epoch 15/20\n",
      "12/12 [==============================] - 6s 530ms/step - loss: 0.3272 - accuracy: 0.9782 - val_loss: 0.3831 - val_accuracy: 0.9443\n",
      "Epoch 16/20\n",
      "12/12 [==============================] - 6s 535ms/step - loss: 0.3220 - accuracy: 0.9721 - val_loss: 0.3468 - val_accuracy: 0.9686\n",
      "Epoch 17/20\n",
      "12/12 [==============================] - 6s 527ms/step - loss: 0.3125 - accuracy: 0.9782 - val_loss: 0.3161 - val_accuracy: 0.9791\n",
      "Epoch 18/20\n",
      "12/12 [==============================] - 6s 530ms/step - loss: 0.3020 - accuracy: 0.9808 - val_loss: 0.3169 - val_accuracy: 0.9791\n",
      "Epoch 19/20\n",
      "12/12 [==============================] - 6s 535ms/step - loss: 0.2835 - accuracy: 0.9887 - val_loss: 0.3158 - val_accuracy: 0.9652\n",
      "Epoch 20/20\n",
      "12/12 [==============================] - 6s 522ms/step - loss: 0.2693 - accuracy: 0.9904 - val_loss: 0.2897 - val_accuracy: 0.9895\n"
     ]
    },
    {
     "data": {
      "text/plain": [
       "<keras.callbacks.History at 0x7f38ae0ab070>"
      ]
     },
     "execution_count": 74,
     "metadata": {},
     "output_type": "execute_result"
    }
   ],
   "source": [
    "optimizer = keras.optimizers.Adam(\n",
    "    learning_rate=0.001,\n",
    ")\n",
    "\n",
    "model.compile(optimizer=optimizer,\n",
    "              loss='sparse_categorical_crossentropy',\n",
    "              metrics=['accuracy'])\n",
    "\n",
    "# 모델 훈련\n",
    "model.fit(x_train_norm, y_train, epochs=20, batch_size=100, validation_split=0.2) "
   ]
  },
  {
   "cell_type": "markdown",
   "id": "65518029",
   "metadata": {},
   "source": [
    "## Test"
   ]
  },
  {
   "cell_type": "code",
   "execution_count": 75,
   "id": "ca238578",
   "metadata": {},
   "outputs": [
    {
     "name": "stdout",
     "output_type": "stream",
     "text": [
      "10/10 - 0s - loss: 0.2689 - accuracy: 0.9900\n",
      "test_loss : 0.2688635289669037\n",
      "test_accuracy : 0.9900000095367432\n"
     ]
    }
   ],
   "source": [
    "# model 추론 결과\n",
    "test_loss, test_accuracy = model.evaluate(x_test_norm, y_test, verbose=2)\n",
    "print(\"test_loss : {}\".format(test_loss))\n",
    "print(\"test_accuracy : {}\".format(test_accuracy))"
   ]
  },
  {
   "cell_type": "code",
   "execution_count": 76,
   "id": "64b43e6c",
   "metadata": {},
   "outputs": [],
   "source": [
    "preds = np.argmax(model.predict(x_test_norm), axis=1)"
   ]
  },
  {
   "cell_type": "code",
   "execution_count": 77,
   "id": "9abd6ed7",
   "metadata": {},
   "outputs": [
    {
     "data": {
      "text/plain": [
       "array([1, 0, 1, 2, 1, 2, 0, 2, 0, 1, 1, 1, 0, 0, 2, 2, 1, 2, 2, 0, 1, 2,\n",
       "       1, 2, 1, 2, 1, 1, 1, 1, 2, 0, 2, 1, 2, 0, 1, 2, 0, 1, 0, 2, 1, 1,\n",
       "       0, 0, 2, 1, 2, 2, 1, 2, 2, 0, 2, 1, 1, 1, 0, 2, 0, 0, 1, 2, 2, 1,\n",
       "       2, 2, 0, 2, 2, 2, 2, 0, 2, 1, 0, 0, 1, 0, 0, 1, 0, 2, 1, 1, 0, 1,\n",
       "       0, 0, 2, 2, 0, 2, 2, 0, 0, 0, 0, 0, 0, 1, 0, 0, 2, 0, 0, 2, 0, 0,\n",
       "       0, 0, 1, 0, 2, 1, 0, 0, 0, 2, 0, 0, 2, 0, 0, 2, 2, 1, 0, 1, 1, 2,\n",
       "       0, 1, 2, 0, 2, 1, 0, 2, 0, 2, 0, 0, 2, 1, 2, 2, 1, 2, 0, 2, 0, 0,\n",
       "       2, 0, 2, 1, 2, 1, 2, 0, 0, 0, 1, 1, 2, 2, 0, 1, 0, 2, 1, 0, 2, 0,\n",
       "       1, 1, 0, 2, 0, 0, 0, 0, 2, 0, 2, 2, 1, 2, 2, 1, 0, 2, 0, 2, 1, 0,\n",
       "       0, 1, 2, 1, 1, 2, 2, 1, 0, 0, 2, 0, 2, 2, 0, 2, 2, 2, 0, 1, 1, 2,\n",
       "       0, 2, 0, 1, 2, 1, 0, 0, 2, 1, 0, 1, 0, 2, 1, 0, 0, 1, 0, 1, 0, 2,\n",
       "       2, 0, 1, 1, 0, 1, 2, 0, 0, 2, 0, 1, 2, 0, 1, 1, 2, 1, 0, 0, 0, 1,\n",
       "       2, 1, 0, 1, 0, 0, 2, 0, 1, 0, 2, 1, 1, 2, 2, 2, 0, 0, 2, 0, 0, 2,\n",
       "       1, 1, 2, 2, 0, 2, 0, 2, 2, 2, 0, 2, 1, 2])"
      ]
     },
     "execution_count": 77,
     "metadata": {},
     "output_type": "execute_result"
    }
   ],
   "source": [
    "preds"
   ]
  },
  {
   "cell_type": "markdown",
   "id": "64528c91",
   "metadata": {},
   "source": [
    "<br>  \n",
    "<br>  \n",
    "<br>  \n",
    "<br>  \n",
    "\n",
    "---\n",
    "\n",
    "## 회고\n",
    "l2 정규화도 해보고, 224x224사이즈 이미지를 28x28로 줄이니 사진이 너무 깨지기 때문에 56x56으로 해봤더니 사진이 좀 덜 깨졌다. 이미지 데이터를 다시 모을 수는 없으니 사진 사이즈를 키워보고 했더니 모델이 잘 인식한 것 같다...!   <br>  \n",
    "여기저기 물어보고 찾아보면서 도움을 받아 해봤더니 재밌는 프로젝트였다  <br>  \n",
    "그래도 혼자 코드를 짜보라고 하면 아직은 어려운 것 같다 :("
   ]
  },
  {
   "cell_type": "code",
   "execution_count": null,
   "id": "dc03e1ae",
   "metadata": {},
   "outputs": [],
   "source": []
  }
 ],
 "metadata": {
  "kernelspec": {
   "display_name": "Python 3 (ipykernel)",
   "language": "python",
   "name": "python3"
  },
  "language_info": {
   "codemirror_mode": {
    "name": "ipython",
    "version": 3
   },
   "file_extension": ".py",
   "mimetype": "text/x-python",
   "name": "python",
   "nbconvert_exporter": "python",
   "pygments_lexer": "ipython3",
   "version": "3.9.7"
  }
 },
 "nbformat": 4,
 "nbformat_minor": 5
}
