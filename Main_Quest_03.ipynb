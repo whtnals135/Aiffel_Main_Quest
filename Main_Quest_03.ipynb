{
 "cells": [
  {
   "cell_type": "markdown",
   "id": "9622d374",
   "metadata": {},
   "source": [
    "# 인공지능과 가위바위보 하기\n",
    "\n",
    "#### Mnist dataset을 이용하여 인공지능과 가위바위보를 해보자!\n"
   ]
  },
  {
   "cell_type": "markdown",
   "id": "41c725dc",
   "metadata": {},
   "source": [
    "##### 목차  \n",
    "\n",
    "- mnist 데이터셋으로 연습해보기\n",
    "- 가위바위보 분류기 만들어보기"
   ]
  },
  {
   "cell_type": "code",
   "execution_count": 240,
   "id": "38d44aa8",
   "metadata": {},
   "outputs": [
    {
     "name": "stdout",
     "output_type": "stream",
     "text": [
      "2.6.0\n",
      "60000\n"
     ]
    }
   ],
   "source": [
    "import tensorflow as tf\n",
    "from tensorflow import keras\n",
    "\n",
    "import numpy as np\n",
    "import matplotlib.pyplot as plt\n",
    "import os\n",
    "\n",
    "\n",
    "print(tf.__version__)   # Tensorflow의 버전을 출력\n",
    "\n",
    "mnist = keras.datasets.mnist\n",
    "\n",
    "# MNIST 데이터를 로드. 다운로드하지 않았다면 다운로드까지 자동진행. \n",
    "(x_train, y_train), (x_test, y_test) = mnist.load_data()   \n",
    "\n",
    "print(len(x_train))  # x_train 배열의 크기를 출력"
   ]
  },
  {
   "cell_type": "code",
   "execution_count": 241,
   "id": "6d2982d4",
   "metadata": {},
   "outputs": [
    {
     "data": {
      "image/png": "[encoded data removed]",
      "text/plain": [
       "<Figure size 432x288 with 1 Axes>"
      ]
     },
     "metadata": {
      "needs_background": "light"
     },
     "output_type": "display_data"
    },
    {
     "name": "stdout",
     "output_type": "stream",
     "text": [
      "10001 번째 이미지의 숫자는 바로  3 입니다.\n"
     ]
    }
   ],
   "source": [
    "# index에 0에서 59999 사이 숫자를 지정해 보세요.\n",
    "index=10000     \n",
    "plt.imshow(x_train[index],cmap=plt.cm.binary)\n",
    "plt.show()\n",
    "print( (index+1), '번째 이미지의 숫자는 바로 ',  y_train[index], '입니다.')"
   ]
  },
  {
   "cell_type": "code",
   "execution_count": 90,
   "id": "4339ae50",
   "metadata": {},
   "outputs": [
    {
     "name": "stdout",
     "output_type": "stream",
     "text": [
      "(60000, 28, 28)\n",
      "(10000, 28, 28)\n"
     ]
    }
   ],
   "source": [
    "print(x_train.shape)\n",
    "print(x_test.shape)"
   ]
  },
  {
   "cell_type": "code",
   "execution_count": 91,
   "id": "a4935d47",
   "metadata": {},
   "outputs": [
    {
     "name": "stdout",
     "output_type": "stream",
     "text": [
      "최소값: 0  최대값: 255\n",
      "최소값: 0.0  최대값: 1.0\n"
     ]
    }
   ],
   "source": [
    "# 손글씨 픽셀 값\n",
    "print('최소값:',np.min(x_train), ' 최대값:',np.max(x_train))\n",
    "\n",
    "# MNIST 데이터의 각 픽셀의 값\n",
    "x_train_norm, x_test_norm = x_train / 255.0, x_test / 255.0\n",
    "print('최소값:',np.min(x_train_norm), ' 최대값:',np.max(x_train_norm))"
   ]
  },
  {
   "cell_type": "markdown",
   "id": "d946c0cf",
   "metadata": {},
   "source": [
    "<br>  \n",
    "<br>  \n",
    "\n",
    "---\n",
    "\n",
    "\n",
    "## Sequential Model 사용하기  \n",
    "\n",
    "<br>  \n",
    "<br>  \n",
    "텐서플로우 케라스(tf.keras)에서 Sequential API라는 방법을 사용해보자"
   ]
  },
  {
   "cell_type": "code",
   "execution_count": 92,
   "id": "7085ad25",
   "metadata": {},
   "outputs": [
    {
     "name": "stdout",
     "output_type": "stream",
     "text": [
      "Model에 추가된 Layer 개수:  7\n"
     ]
    }
   ],
   "source": [
    "model=keras.models.Sequential()\n",
    "model.add(keras.layers.Conv2D(16, (3,3), activation='relu', input_shape=(28,28,1)))\n",
    "model.add(keras.layers.MaxPool2D(2,2))\n",
    "model.add(keras.layers.Conv2D(32, (3,3), activation='relu'))\n",
    "model.add(keras.layers.MaxPooling2D((2,2)))\n",
    "model.add(keras.layers.Flatten())\n",
    "model.add(keras.layers.Dense(32, activation='relu'))\n",
    "model.add(keras.layers.Dense(10, activation='softmax'))\n",
    "\n",
    "print('Model에 추가된 Layer 개수: ', len(model.layers))"
   ]
  },
  {
   "cell_type": "code",
   "execution_count": 93,
   "id": "1e5ced59",
   "metadata": {},
   "outputs": [
    {
     "name": "stdout",
     "output_type": "stream",
     "text": [
      "Model: \"sequential_6\"\n",
      "_________________________________________________________________\n",
      "Layer (type)                 Output Shape              Param #   \n",
      "=================================================================\n",
      "conv2d_12 (Conv2D)           (None, 26, 26, 16)        160       \n",
      "_________________________________________________________________\n",
      "max_pooling2d_12 (MaxPooling (None, 13, 13, 16)        0         \n",
      "_________________________________________________________________\n",
      "conv2d_13 (Conv2D)           (None, 11, 11, 32)        4640      \n",
      "_________________________________________________________________\n",
      "max_pooling2d_13 (MaxPooling (None, 5, 5, 32)          0         \n",
      "_________________________________________________________________\n",
      "flatten_6 (Flatten)          (None, 800)               0         \n",
      "_________________________________________________________________\n",
      "dense_12 (Dense)             (None, 32)                25632     \n",
      "_________________________________________________________________\n",
      "dense_13 (Dense)             (None, 10)                330       \n",
      "=================================================================\n",
      "Total params: 30,762\n",
      "Trainable params: 30,762\n",
      "Non-trainable params: 0\n",
      "_________________________________________________________________\n"
     ]
    }
   ],
   "source": [
    "model.summary() # 후에 코드를 수정할 예정이니 모델 확인 일단 해보기"
   ]
  },
  {
   "cell_type": "markdown",
   "id": "8315c1ff",
   "metadata": {},
   "source": [
    "<br>  \n",
    "<br>  \n",
    "\n",
    "## 딥러닝 네트워크 학습시키기"
   ]
  },
  {
   "cell_type": "code",
   "execution_count": 94,
   "id": "48de6420",
   "metadata": {},
   "outputs": [
    {
     "name": "stdout",
     "output_type": "stream",
     "text": [
      "Before Reshape - x_train_norm shape: (60000, 28, 28)\n",
      "Before Reshape - x_test_norm shape: (10000, 28, 28)\n",
      "After Reshape - x_train_reshaped shape: (60000, 28, 28, 1)\n",
      "After Reshape - x_test_reshaped shape: (10000, 28, 28, 1)\n"
     ]
    }
   ],
   "source": [
    "print(f\"Before Reshape - x_train_norm shape: {x_train_norm.shape}\")\n",
    "print(f\"Before Reshape - x_test_norm shape: {x_test_norm.shape}\")\n",
    "\n",
    "x_train_reshaped=x_train_norm.reshape( -1, 28, 28, 1)  # 데이터갯수에 -1을 쓰면 reshape시 자동계산.\n",
    "x_test_reshaped=x_test_norm.reshape( -1, 28, 28, 1)\n",
    "\n",
    "print(f\"After Reshape - x_train_reshaped shape: {x_train_reshaped.shape}\")\n",
    "print(f\"After Reshape - x_test_reshaped shape: {x_test_reshaped.shape}\")"
   ]
  },
  {
   "cell_type": "code",
   "execution_count": 95,
   "id": "0af7a3eb",
   "metadata": {},
   "outputs": [
    {
     "name": "stdout",
     "output_type": "stream",
     "text": [
      "Epoch 1/10\n",
      "1875/1875 [==============================] - 32s 17ms/step - loss: 0.1823 - accuracy: 0.9451\n",
      "Epoch 2/10\n",
      "1875/1875 [==============================] - 32s 17ms/step - loss: 0.0620 - accuracy: 0.9808\n",
      "Epoch 3/10\n",
      "1875/1875 [==============================] - 32s 17ms/step - loss: 0.0465 - accuracy: 0.9853\n",
      "Epoch 4/10\n",
      "1875/1875 [==============================] - 32s 17ms/step - loss: 0.0356 - accuracy: 0.9892\n",
      "Epoch 5/10\n",
      "1875/1875 [==============================] - 32s 17ms/step - loss: 0.0289 - accuracy: 0.9905\n",
      "Epoch 6/10\n",
      "1875/1875 [==============================] - 32s 17ms/step - loss: 0.0233 - accuracy: 0.9922\n",
      "Epoch 7/10\n",
      "1875/1875 [==============================] - 32s 17ms/step - loss: 0.0193 - accuracy: 0.9938\n",
      "Epoch 8/10\n",
      "1875/1875 [==============================] - 32s 17ms/step - loss: 0.0159 - accuracy: 0.9951\n",
      "Epoch 9/10\n",
      "1875/1875 [==============================] - 31s 17ms/step - loss: 0.0130 - accuracy: 0.9960\n",
      "Epoch 10/10\n",
      "1875/1875 [==============================] - 31s 17ms/step - loss: 0.0121 - accuracy: 0.9958\n"
     ]
    },
    {
     "data": {
      "text/plain": [
       "<keras.callbacks.History at 0x7fc8320c5bb0>"
      ]
     },
     "execution_count": 95,
     "metadata": {},
     "output_type": "execute_result"
    }
   ],
   "source": [
    "# 학습하기! \n",
    "model.compile(optimizer='adam',\n",
    "             loss='sparse_categorical_crossentropy',\n",
    "             metrics=['accuracy'])\n",
    "\n",
    "model.fit(x_train_reshaped, y_train, epochs=10)"
   ]
  },
  {
   "cell_type": "markdown",
   "id": "d5d92068",
   "metadata": {},
   "source": [
    "**인식 정확도가 0.9413에서 0.9957까지 높게 올라간다. 9 epoch정도부터는 인식률의 상승이 미미하다. <br>  \n",
    "학습할 때마다 인식 정확도는 변동되긴 한다만 10 epoch정도 학습을 시키면 충분할 것 같다.**<br>  \n",
    "<br>  \n",
    "<br>  \n",
    "## 잘 만들어졌는지 확인하기\n",
    "<br>  \n",
    "<br>  "
   ]
  },
  {
   "cell_type": "code",
   "execution_count": 96,
   "id": "3b2f82c1",
   "metadata": {},
   "outputs": [
    {
     "name": "stdout",
     "output_type": "stream",
     "text": [
      "313/313 - 2s - loss: 0.0331 - accuracy: 0.9902\n",
      "test_loss: 0.033076439052820206\n",
      "test_accuracy: 0.9901999831199646\n"
     ]
    }
   ],
   "source": [
    "test_loss, test_accuracy = model.evaluate(x_test_reshaped,y_test, verbose=2)\n",
    "print(f\"test_loss: {test_loss}\")\n",
    "print(f\"test_accuracy: {test_accuracy}\")"
   ]
  },
  {
   "cell_type": "code",
   "execution_count": 97,
   "id": "361e1dae",
   "metadata": {},
   "outputs": [
    {
     "name": "stdout",
     "output_type": "stream",
     "text": [
      "model.predict() 결과 :  [6.9954681e-11 2.1200814e-08 4.0463006e-09 3.0258346e-07 3.2342151e-10\n",
      " 2.5275693e-09 4.9589173e-16 9.9999940e-01 1.4924055e-09 2.6605895e-07]\n",
      "model이 추론한 가장 가능성이 높은 결과 :  7\n",
      "실제 데이터의 라벨 :  7\n"
     ]
    }
   ],
   "source": [
    "predicted_result = model.predict(x_test_reshaped)  # model이 추론한 확률값. \n",
    "predicted_labels = np.argmax(predicted_result, axis=1)\n",
    "\n",
    "idx=0  #1번째 x_test를 살펴보자. \n",
    "print('model.predict() 결과 : ', predicted_result[idx])\n",
    "print('model이 추론한 가장 가능성이 높은 결과 : ', predicted_labels[idx])\n",
    "print('실제 데이터의 라벨 : ', y_test[idx])"
   ]
  },
  {
   "cell_type": "markdown",
   "id": "7399b0e9",
   "metadata": {},
   "source": [
    "_*이 벡터는 model이 추론한 결과가 각각 0, 1, 2, ..., 7, 8, 9일 확률을 의미*_"
   ]
  },
  {
   "cell_type": "code",
   "execution_count": 98,
   "id": "ccaffceb",
   "metadata": {},
   "outputs": [
    {
     "data": {
      "image/png": "[encoded data removed]",
      "text/plain": [
       "<Figure size 432x288 with 1 Axes>"
      ]
     },
     "metadata": {
      "needs_background": "light"
     },
     "output_type": "display_data"
    }
   ],
   "source": [
    "# 숫자 7인지 확인해보기\n",
    "plt.imshow(x_test[idx],cmap=plt.cm.binary)\n",
    "plt.show()"
   ]
  },
  {
   "cell_type": "code",
   "execution_count": 99,
   "id": "431eed92",
   "metadata": {},
   "outputs": [
    {
     "name": "stdout",
     "output_type": "stream",
     "text": [
      "예측확률분포: [5.81212269e-08 3.74533604e-09 1.45797585e-05 9.58739460e-01\n",
      " 1.00187371e-12 3.17560589e-10 4.88422192e-10 2.47592213e-09\n",
      " 4.12458628e-02 5.55786306e-10]\n",
      "라벨: 8, 예측결과: 3\n"
     ]
    },
    {
     "data": {
      "image/png": "[encoded data removed]",
      "text/plain": [
       "<Figure size 432x288 with 1 Axes>"
      ]
     },
     "metadata": {
      "needs_background": "light"
     },
     "output_type": "display_data"
    },
    {
     "name": "stdout",
     "output_type": "stream",
     "text": [
      "예측확률분포: [2.51125966e-05 1.44691242e-07 2.13702691e-08 2.34207567e-02\n",
      " 9.57900710e-08 5.73088109e-01 5.18741183e-09 1.11498856e-07\n",
      " 2.57453579e-03 4.00891215e-01]\n",
      "라벨: 9, 예측결과: 5\n"
     ]
    },
    {
     "data": {
      "image/png": "[encoded data removed]",
      "text/plain": [
       "<Figure size 432x288 with 1 Axes>"
      ]
     },
     "metadata": {
      "needs_background": "light"
     },
     "output_type": "display_data"
    },
    {
     "name": "stdout",
     "output_type": "stream",
     "text": [
      "예측확률분포: [6.3183880e-09 1.3104983e-08 3.3131844e-01 4.4254662e-05 1.8313225e-08\n",
      " 1.1105033e-08 2.3295430e-14 6.6863668e-01 6.7233049e-07 3.2954233e-11]\n",
      "라벨: 2, 예측결과: 7\n"
     ]
    },
    {
     "data": {
      "image/png": "[encoded data removed]",
      "text/plain": [
       "<Figure size 432x288 with 1 Axes>"
      ]
     },
     "metadata": {
      "needs_background": "light"
     },
     "output_type": "display_data"
    },
    {
     "name": "stdout",
     "output_type": "stream",
     "text": [
      "예측확률분포: [2.1065889e-06 1.7913471e-03 2.4876224e-05 1.6373183e-04 3.2648884e-05\n",
      " 8.9819735e-04 4.9051080e-10 5.3248137e-02 5.3143981e-03 9.3852448e-01]\n",
      "라벨: 7, 예측결과: 9\n"
     ]
    },
    {
     "data": {
      "image/png": "[encoded data removed]",
      "text/plain": [
       "<Figure size 432x288 with 1 Axes>"
      ]
     },
     "metadata": {
      "needs_background": "light"
     },
     "output_type": "display_data"
    },
    {
     "name": "stdout",
     "output_type": "stream",
     "text": [
      "예측확률분포: [9.7514069e-01 9.1810309e-12 5.7956612e-07 2.8147820e-08 6.2569706e-11\n",
      " 3.9709914e-07 1.8124706e-04 7.7781720e-10 2.4646342e-02 3.0708925e-05]\n",
      "라벨: 8, 예측결과: 0\n"
     ]
    },
    {
     "data": {
      "image/png": "[encoded data removed]",
      "text/plain": [
       "<Figure size 432x288 with 1 Axes>"
      ]
     },
     "metadata": {
      "needs_background": "light"
     },
     "output_type": "display_data"
    }
   ],
   "source": [
    "# 실제 라벨의 값과 추론해낸 숫자 값이 다른 경우\n",
    "import random\n",
    "wrong_predict_list=[]\n",
    "for i, _ in enumerate(predicted_labels):\n",
    "    # i번째 test_labels과 y_test이 다른 경우만 모아 봅시다. \n",
    "    if predicted_labels[i] != y_test[i]:\n",
    "        wrong_predict_list.append(i)\n",
    "\n",
    "# wrong_predict_list 에서 랜덤하게 5개만 뽑아봅시다.\n",
    "samples = random.choices(population=wrong_predict_list, k=5)\n",
    "\n",
    "for n in samples:\n",
    "    print(\"예측확률분포: \" + str(predicted_result[n]))\n",
    "    print(\"라벨: \" + str(y_test[n]) + \", 예측결과: \" + str(predicted_labels[n]))\n",
    "    plt.imshow(x_test[n], cmap=plt.cm.binary)\n",
    "    plt.show()"
   ]
  },
  {
   "cell_type": "markdown",
   "id": "363a3a12",
   "metadata": {},
   "source": [
    "**사람이 봐도 혼란스럽다...**"
   ]
  },
  {
   "cell_type": "markdown",
   "id": "4d7c3e59",
   "metadata": {},
   "source": [
    "### 더 좋은 네트워크를 만들어 볼 순 없나?\n"
   ]
  },
  {
   "cell_type": "markdown",
   "id": "549e2ef1",
   "metadata": {},
   "source": [
    "<br>  \n",
    "<br>\n",
    "\n",
    "---  \n",
    "<br>  "
   ]
  },
  {
   "cell_type": "code",
   "execution_count": 100,
   "id": "1b848572",
   "metadata": {},
   "outputs": [
    {
     "name": "stdout",
     "output_type": "stream",
     "text": [
      "Model: \"sequential_7\"\n",
      "_________________________________________________________________\n",
      "Layer (type)                 Output Shape              Param #   \n",
      "=================================================================\n",
      "conv2d_14 (Conv2D)           (None, 26, 26, 32)        320       \n",
      "_________________________________________________________________\n",
      "max_pooling2d_14 (MaxPooling (None, 13, 13, 32)        0         \n",
      "_________________________________________________________________\n",
      "conv2d_15 (Conv2D)           (None, 11, 11, 64)        18496     \n",
      "_________________________________________________________________\n",
      "max_pooling2d_15 (MaxPooling (None, 5, 5, 64)          0         \n",
      "_________________________________________________________________\n",
      "flatten_7 (Flatten)          (None, 1600)              0         \n",
      "_________________________________________________________________\n",
      "dense_14 (Dense)             (None, 64)                102464    \n",
      "_________________________________________________________________\n",
      "dense_15 (Dense)             (None, 10)                650       \n",
      "=================================================================\n",
      "Total params: 121,930\n",
      "Trainable params: 121,930\n",
      "Non-trainable params: 0\n",
      "_________________________________________________________________\n",
      "Epoch 1/10\n",
      "1875/1875 [==============================] - 59s 31ms/step - loss: 0.1392 - accuracy: 0.9573\n",
      "Epoch 2/10\n",
      "1875/1875 [==============================] - 58s 31ms/step - loss: 0.0456 - accuracy: 0.9860\n",
      "Epoch 3/10\n",
      "1875/1875 [==============================] - 58s 31ms/step - loss: 0.0313 - accuracy: 0.9904\n",
      "Epoch 4/10\n",
      "1875/1875 [==============================] - 59s 31ms/step - loss: 0.0241 - accuracy: 0.9925\n",
      "Epoch 5/10\n",
      "1875/1875 [==============================] - 58s 31ms/step - loss: 0.0181 - accuracy: 0.9942\n",
      "Epoch 6/10\n",
      "1875/1875 [==============================] - 58s 31ms/step - loss: 0.0138 - accuracy: 0.9953\n",
      "Epoch 7/10\n",
      "1875/1875 [==============================] - 58s 31ms/step - loss: 0.0100 - accuracy: 0.9966\n",
      "Epoch 8/10\n",
      "1875/1875 [==============================] - 58s 31ms/step - loss: 0.0098 - accuracy: 0.9969\n",
      "Epoch 9/10\n",
      "1875/1875 [==============================] - 58s 31ms/step - loss: 0.0075 - accuracy: 0.9976\n",
      "Epoch 10/10\n",
      "1875/1875 [==============================] - 58s 31ms/step - loss: 0.0066 - accuracy: 0.9976\n",
      "313/313 - 3s - loss: 0.0403 - accuracy: 0.9907\n",
      "test_loss: 0.04025694727897644 \n",
      "test_accuracy: 0.9907000064849854\n"
     ]
    }
   ],
   "source": [
    "\n",
    "# params = [[32, 64, 64 ,10], [32, 32, 64 ,10]]\n",
    "\n",
    "# for pram in params\n",
    "#     n_channel_1 = pram[0]\n",
    "# for문 돌려서 편하게 할 걸,,,,하는 생각,,,,,\n",
    "\n",
    "# 바꿔 볼 수 있는 하이퍼파라미터들\n",
    "n_channel_1=32\n",
    "n_channel_2=64\n",
    "n_dense=64\n",
    "n_train_epoch=10\n",
    "\n",
    "model=keras.models.Sequential()\n",
    "model.add(keras.layers.Conv2D(n_channel_1, (3,3), activation='relu', input_shape=(28,28,1)))\n",
    "model.add(keras.layers.MaxPool2D(2,2))\n",
    "model.add(keras.layers.Conv2D(n_channel_2, (3,3), activation='relu'))\n",
    "model.add(keras.layers.MaxPooling2D((2,2)))\n",
    "model.add(keras.layers.Flatten())\n",
    "model.add(keras.layers.Dense(n_dense, activation='relu'))\n",
    "model.add(keras.layers.Dense(10, activation='softmax'))\n",
    "\n",
    "model.summary()\n",
    "model.compile(optimizer='adam',\n",
    "             loss='sparse_categorical_crossentropy',\n",
    "             metrics=['accuracy'])\n",
    "\n",
    "# 모델 훈련\n",
    "model.fit(x_train_reshaped, y_train, epochs=n_train_epoch)\n",
    "\n",
    "# 모델 시험\n",
    "test_loss, test_accuracy = model.evaluate(x_test_reshaped, y_test, verbose=2)\n",
    "print(f\"test_loss: {test_loss} \")\n",
    "print(f\"test_accuracy: {test_accuracy}\")"
   ]
  },
  {
   "cell_type": "markdown",
   "id": "74e93a2d",
   "metadata": {},
   "source": [
    "---\n",
    "---\n",
    "**---**\n",
    "\n",
    "---\n",
    "---"
   ]
  },
  {
   "cell_type": "markdown",
   "id": "33ba1d0b",
   "metadata": {},
   "source": [
    "# 가위바위보 분류기 만들기\n"
   ]
  },
  {
   "cell_type": "code",
   "execution_count": 246,
   "id": "1307572f",
   "metadata": {},
   "outputs": [
    {
     "name": "stdout",
     "output_type": "stream",
     "text": [
      "2.6.0\n",
      "1.22.2\n"
     ]
    }
   ],
   "source": [
    "import tensorflow as tf\n",
    "import numpy as np\n",
    "\n",
    "print(tf.__version__)\n",
    "print(np.__version__)"
   ]
  },
  {
   "cell_type": "code",
   "execution_count": 247,
   "id": "dfb6f59f",
   "metadata": {},
   "outputs": [
    {
     "name": "stdout",
     "output_type": "stream",
     "text": [
      "PIL 라이브러리 import 완료!\n"
     ]
    }
   ],
   "source": [
    "from PIL import Image\n",
    "import glob\n",
    "import os\n",
    "\n",
    "print(\"PIL 라이브러리 import 완료!\")"
   ]
  },
  {
   "cell_type": "code",
   "execution_count": 248,
   "id": "da78bf82",
   "metadata": {},
   "outputs": [
    {
     "name": "stdout",
     "output_type": "stream",
     "text": [
      "521  images to be resized.\n",
      "521  images resized.\n",
      "가위 이미지 resize 완료!\n"
     ]
    }
   ],
   "source": [
    "def resize_images(img_path):\n",
    "\timages=glob.glob(img_path + \"/*.jpg\")  \n",
    "    \n",
    "\tprint(len(images), \" images to be resized.\")\n",
    "\n",
    "    # 파일마다 모두 28x28 사이즈로 바꾸어 저장.\n",
    "\ttarget_size=(28,28)\n",
    "\tfor img in images:\n",
    "\t\told_img=Image.open(img)\n",
    "\t\tnew_img=old_img.resize(target_size,Image.ANTIALIAS)\n",
    "\t\tnew_img.save(img, \"JPEG\")\n",
    "    \n",
    "\tprint(len(images), \" images resized.\")\n",
    "\t\n",
    "# 가위 이미지가 저장된 디렉토리 아래의 모든 jpg 파일을 읽어들여서\n",
    "image_dir_path = os.getenv(\"HOME\") + \"/aiffel/rock_scissor_paper/scissor/scissor\"\n",
    "resize_images(image_dir_path)\n",
    "\n",
    "print(\"가위 이미지 resize 완료!\")"
   ]
  },
  {
   "cell_type": "code",
   "execution_count": 249,
   "id": "6507d1cf",
   "metadata": {},
   "outputs": [
    {
     "name": "stdout",
     "output_type": "stream",
     "text": [
      "408  images to be resized.\n",
      "408  images resized.\n",
      "바위 이미지 resize 완료!\n"
     ]
    }
   ],
   "source": [
    "# 바위 이미지가 저장된 디렉토리 아래의 모든 jpg 파일을 읽어들여서\n",
    "image_dir_path = os.getenv(\"HOME\") + \"/aiffel/rock_scissor_paper/rock/rock\"\n",
    "# 파일마다 모두 28x28 사이즈로 바꾸어 저장합니다.\n",
    "resize_images(image_dir_path)\n",
    "print(\"바위 이미지 resize 완료!\")"
   ]
  },
  {
   "cell_type": "code",
   "execution_count": 250,
   "id": "696db2d2",
   "metadata": {},
   "outputs": [
    {
     "name": "stdout",
     "output_type": "stream",
     "text": [
      "506  images to be resized.\n",
      "506  images resized.\n",
      "보 이미지 resize 완료!\n"
     ]
    }
   ],
   "source": [
    "# 보 이미지가 저장된 디렉토리 아래의 모든 jpg 파일을 읽어들여서\n",
    "image_dir_path = os.getenv(\"HOME\") + \"/aiffel/rock_scissor_paper/paper/paper\"\n",
    "\n",
    "# 파일마다 모두 28x28 사이즈로 바꾸어 저장합니다.\n",
    "resize_images(image_dir_path)\n",
    "print(\"보 이미지 resize 완료!\")"
   ]
  },
  {
   "cell_type": "code",
   "execution_count": 251,
   "id": "bcbee68f",
   "metadata": {},
   "outputs": [
    {
     "name": "stdout",
     "output_type": "stream",
     "text": [
      "학습데이터(x_train)의 이미지 개수는 1435 입니다.\n",
      "x_train shape: (1435, 28, 28, 3)\n",
      "y_train shape: (1435,)\n"
     ]
    }
   ],
   "source": [
    "import numpy as np\n",
    "\n",
    "def load_data(img_path, number_of_data=1435):  # 가위바위보 이미지 개수 총합에 주의하세요.\n",
    "    # 가위 : 0, 바위 : 1, 보 : 2\n",
    "    img_size=28\n",
    "    color=3\n",
    "    #이미지 데이터와 라벨(가위 : 0, 바위 : 1, 보 : 2) 데이터를 담을 행렬(matrix) 영역을 생성합니다.\n",
    "    imgs=np.zeros(number_of_data*img_size*img_size*color,dtype=np.int32).reshape(number_of_data,img_size,img_size,color)\n",
    "    labels=np.zeros(number_of_data,dtype=np.int32)\n",
    "\n",
    "    idx=0\n",
    "    for file in glob.iglob(img_path+'/scissor/scissor/*.jpg'):\n",
    "        img = np.array(Image.open(file),dtype=np.int32)\n",
    "        imgs[idx,:,:,:]=img    # 데이터 영역에 이미지 행렬을 복사\n",
    "        labels[idx]=0   # 가위 : 0\n",
    "        idx=idx+1\n",
    "\n",
    "    for file in glob.iglob(img_path+'/rock/rock/*.jpg'):\n",
    "        img = np.array(Image.open(file),dtype=np.int32)\n",
    "        imgs[idx,:,:,:]=img    # 데이터 영역에 이미지 행렬을 복사\n",
    "        labels[idx]=1   # 바위 : 1\n",
    "        idx=idx+1  \n",
    "    \n",
    "    for file in glob.iglob(img_path+'/paper/paper/*.jpg'):\n",
    "        img = np.array(Image.open(file),dtype=np.int32)\n",
    "        imgs[idx,:,:,:]=img    # 데이터 영역에 이미지 행렬을 복사\n",
    "        labels[idx]=2   # 보 : 2\n",
    "        idx=idx+1\n",
    "        \n",
    "    print(\"학습데이터(x_train)의 이미지 개수는\", idx,\"입니다.\")\n",
    "    return imgs, labels\n",
    "\n",
    "image_dir_path = os.getenv(\"HOME\") + \"/aiffel/rock_scissor_paper\"\n",
    "(x_train, y_train)=load_data(image_dir_path)\n",
    "x_train_norm = x_train/255.0   # 입력은 0~1 사이의 값으로 정규화\n",
    "\n",
    "print(\"x_train shape: {}\".format(x_train.shape))\n",
    "print(\"y_train shape: {}\".format(y_train.shape))"
   ]
  },
  {
   "cell_type": "code",
   "execution_count": 252,
   "id": "44011291",
   "metadata": {},
   "outputs": [
    {
     "name": "stdout",
     "output_type": "stream",
     "text": [
      "라벨:  0\n"
     ]
    },
    {
     "data": {
      "image/png": "[encoded data removed]",
      "text/plain": [
       "<Figure size 432x288 with 1 Axes>"
      ]
     },
     "metadata": {
      "needs_background": "light"
     },
     "output_type": "display_data"
    }
   ],
   "source": [
    "import matplotlib.pyplot as plt\n",
    "plt.imshow(x_train[0])\n",
    "print('라벨: ', y_train[0])"
   ]
  },
  {
   "cell_type": "code",
   "execution_count": 253,
   "id": "02f1ec5a",
   "metadata": {},
   "outputs": [
    {
     "name": "stdout",
     "output_type": "stream",
     "text": [
      "Model: \"sequential_19\"\n",
      "_________________________________________________________________\n",
      "Layer (type)                 Output Shape              Param #   \n",
      "=================================================================\n",
      "conv2d_38 (Conv2D)           (None, 26, 26, 32)        896       \n",
      "_________________________________________________________________\n",
      "max_pooling2d_38 (MaxPooling (None, 13, 13, 32)        0         \n",
      "_________________________________________________________________\n",
      "conv2d_39 (Conv2D)           (None, 11, 11, 64)        18496     \n",
      "_________________________________________________________________\n",
      "max_pooling2d_39 (MaxPooling (None, 5, 5, 64)          0         \n",
      "_________________________________________________________________\n",
      "flatten_19 (Flatten)         (None, 1600)              0         \n",
      "_________________________________________________________________\n",
      "dense_38 (Dense)             (None, 64)                102464    \n",
      "_________________________________________________________________\n",
      "dense_39 (Dense)             (None, 32)                2080      \n",
      "=================================================================\n",
      "Total params: 123,936\n",
      "Trainable params: 123,936\n",
      "Non-trainable params: 0\n",
      "_________________________________________________________________\n"
     ]
    }
   ],
   "source": [
    "import tensorflow as tf\n",
    "from tensorflow import keras\n",
    "import numpy as np\n",
    "\n",
    "# model 만들기\n",
    "# Hint! model의 입력/출력부에 특히 유의\n",
    "model = keras.models.Sequential()\n",
    "model.add(keras.layers.Conv2D(32, (3,3), activation='relu', input_shape=(28,28,3)))\n",
    "model.add(keras.layers.MaxPool2D(2,2))\n",
    "model.add(keras.layers.Conv2D(64, (3,3), activation='relu'))\n",
    "model.add(keras.layers.MaxPool2D(2,2))\n",
    "model.add(keras.layers.Flatten())\n",
    "model.add(keras.layers.Dense(64, activation='relu'))\n",
    "model.add(keras.layers.Dense(32, activation='softmax'))\n",
    "\n",
    "model.summary()"
   ]
  },
  {
   "cell_type": "code",
   "execution_count": 254,
   "id": "3988c0d4",
   "metadata": {},
   "outputs": [
    {
     "name": "stdout",
     "output_type": "stream",
     "text": [
      "Epoch 1/20\n",
      "36/36 [==============================] - 2s 50ms/step - loss: 9.0156 - accuracy: 0.5009 - val_loss: 9.4247 - val_accuracy: 0.0244\n",
      "Epoch 2/20\n",
      "36/36 [==============================] - 1s 40ms/step - loss: 0.6898 - accuracy: 0.7814 - val_loss: 0.3759 - val_accuracy: 0.8955\n",
      "Epoch 3/20\n",
      "36/36 [==============================] - 1s 38ms/step - loss: 0.2841 - accuracy: 0.8920 - val_loss: 1.1261 - val_accuracy: 0.6760\n",
      "Epoch 4/20\n",
      "36/36 [==============================] - 1s 39ms/step - loss: 0.2339 - accuracy: 0.9129 - val_loss: 0.2613 - val_accuracy: 0.9129\n",
      "Epoch 5/20\n",
      "36/36 [==============================] - 1s 38ms/step - loss: 0.2241 - accuracy: 0.9120 - val_loss: 0.4153 - val_accuracy: 0.8711\n",
      "Epoch 6/20\n",
      "36/36 [==============================] - 1s 38ms/step - loss: 0.1424 - accuracy: 0.9451 - val_loss: 0.2795 - val_accuracy: 0.9024\n",
      "Epoch 7/20\n",
      "36/36 [==============================] - 1s 38ms/step - loss: 0.1017 - accuracy: 0.9617 - val_loss: 0.3310 - val_accuracy: 0.8920\n",
      "Epoch 8/20\n",
      "36/36 [==============================] - 1s 39ms/step - loss: 0.0702 - accuracy: 0.9774 - val_loss: 0.1949 - val_accuracy: 0.9512\n",
      "Epoch 9/20\n",
      "36/36 [==============================] - 1s 39ms/step - loss: 0.0649 - accuracy: 0.9843 - val_loss: 0.1317 - val_accuracy: 0.9617\n",
      "Epoch 10/20\n",
      "36/36 [==============================] - 1s 38ms/step - loss: 0.0528 - accuracy: 0.9826 - val_loss: 0.2029 - val_accuracy: 0.9477\n",
      "Epoch 11/20\n",
      "36/36 [==============================] - 1s 39ms/step - loss: 0.0333 - accuracy: 0.9922 - val_loss: 0.1034 - val_accuracy: 0.9686\n",
      "Epoch 12/20\n",
      "36/36 [==============================] - 1s 39ms/step - loss: 0.0304 - accuracy: 0.9939 - val_loss: 0.1377 - val_accuracy: 0.9617\n",
      "Epoch 13/20\n",
      "36/36 [==============================] - 1s 38ms/step - loss: 0.0171 - accuracy: 0.9974 - val_loss: 0.1453 - val_accuracy: 0.9617\n",
      "Epoch 14/20\n",
      "36/36 [==============================] - 1s 38ms/step - loss: 0.0126 - accuracy: 0.9991 - val_loss: 0.1664 - val_accuracy: 0.9512\n",
      "Epoch 15/20\n",
      "36/36 [==============================] - 1s 38ms/step - loss: 0.0117 - accuracy: 0.9991 - val_loss: 0.0999 - val_accuracy: 0.9791\n",
      "Epoch 16/20\n",
      "36/36 [==============================] - 1s 40ms/step - loss: 0.0098 - accuracy: 1.0000 - val_loss: 0.0896 - val_accuracy: 0.9826\n",
      "Epoch 17/20\n",
      "36/36 [==============================] - 1s 41ms/step - loss: 0.0073 - accuracy: 1.0000 - val_loss: 0.0979 - val_accuracy: 0.9756\n",
      "Epoch 18/20\n",
      "36/36 [==============================] - 1s 38ms/step - loss: 0.0068 - accuracy: 1.0000 - val_loss: 0.0981 - val_accuracy: 0.9826\n",
      "Epoch 19/20\n",
      "36/36 [==============================] - 1s 40ms/step - loss: 0.0068 - accuracy: 1.0000 - val_loss: 0.0903 - val_accuracy: 0.9721\n",
      "Epoch 20/20\n",
      "36/36 [==============================] - 1s 39ms/step - loss: 0.0069 - accuracy: 1.0000 - val_loss: 0.1113 - val_accuracy: 0.9756\n"
     ]
    },
    {
     "data": {
      "text/plain": [
       "<keras.callbacks.History at 0x7fc81d1ec4c0>"
      ]
     },
     "execution_count": 254,
     "metadata": {},
     "output_type": "execute_result"
    }
   ],
   "source": [
    "model.compile(optimizer='adam',\n",
    "              loss='sparse_categorical_crossentropy',\n",
    "              metrics=['accuracy'])\n",
    "\n",
    "# 모델 훈련\n",
    "model.fit(x_train, y_train, epochs=20, batch_size=32, validation_split=0.2) "
   ]
  },
  {
   "cell_type": "code",
   "execution_count": 255,
   "id": "b6603136",
   "metadata": {},
   "outputs": [
    {
     "name": "stdout",
     "output_type": "stream",
     "text": [
      "100  images to be resized.\n",
      "100  images resized.\n",
      "test용 가위 이미지 resize 완료!\n",
      "100  images to be resized.\n",
      "100  images resized.\n",
      "test용 바위 이미지 resize 완료!\n",
      "100  images to be resized.\n",
      "100  images resized.\n",
      "test용 보 이미지 resize 완료!\n"
     ]
    }
   ],
   "source": [
    "# 테스트용 데이터 가위,바위,보에 대하여 이미지 사이즈 조정하기\n",
    "\n",
    "# 가위 이미지가 저장된 디렉토리 아래의 모든 jpg 파일을 읽어들여서\n",
    "image_dir_path = os.getenv(\"HOME\") + \"/aiffel/rock_scissor_paper/test/scissor\"\n",
    "resize_images(image_dir_path)\n",
    "\n",
    "print(\"test용 가위 이미지 resize 완료!\")\n",
    "\n",
    "# 바위 이미지가 저장된 디렉토리 아래의 모든 jpg 파일을 읽어들여서\n",
    "image_dir_path = os.getenv(\"HOME\") + \"/aiffel/rock_scissor_paper/test/rock\"\n",
    "resize_images(image_dir_path)\n",
    "\n",
    "print(\"test용 바위 이미지 resize 완료!\")\n",
    "\n",
    "# 보 이미지가 저장된 디렉토리 아래의 모든 jpg 파일을 읽어들여서 \n",
    "image_dir_path = os.getenv(\"HOME\") + \"/aiffel/rock_scissor_paper/test/paper\"\n",
    "resize_images(image_dir_path)\n",
    "\n",
    "print(\"test용 보 이미지 resize 완료!\")"
   ]
  },
  {
   "cell_type": "code",
   "execution_count": 256,
   "id": "77ecf2c2",
   "metadata": {},
   "outputs": [],
   "source": [
    "def load_data2(img_path_, number_of_data_=300):  \n",
    "    # 가위, 바위, 보 이미지 데이터를 담을 행렬(matrix) 영역을 생성합니다.\n",
    "    img_size_ = 28\n",
    "    color_ = 3\n",
    "    imgs_ = np.zeros(number_of_data_ * img_size_ * img_size_ * color_, dtype=np.int32).reshape(number_of_data_, img_size_, img_size_, color_)\n",
    "    labels_ = np.zeros(number_of_data_, dtype=np.int32)\n",
    "\n",
    "    idx = 0\n",
    "    for file in glob.iglob(img_path_+'/scissor/*.jpg'):\n",
    "        img_ = np.array(Image.open(file), dtype=np.int32)\n",
    "        imgs_[idx, :, :, :] = img_    # 데이터 영역에 이미지 행렬을 복사\n",
    "        labels_[idx] = 0   # 가위 : 0\n",
    "        idx += 1\n",
    "\n",
    "    for file in glob.iglob(img_path_+'/rock/*.jpg'):\n",
    "        img_ = np.array(Image.open(file), dtype=np.int32)\n",
    "        imgs_[idx, :, :, :] = img_    # 데이터 영역에 이미지 행렬을 복사\n",
    "        labels_[idx] = 1   # 바위 : 1\n",
    "        idx += 1  \n",
    "    \n",
    "    for file in glob.iglob(img_path_+'/paper/*.jpg'):\n",
    "        img_ = np.array(Image.open(file), dtype=np.int32)\n",
    "        imgs_[idx, :, :, :] = img_    # 데이터 영역에 이미지 행렬을 복사\n",
    "        labels_[idx] = 2   # 보 : 2\n",
    "        idx += 1\n",
    "        \n",
    "    print(\"학습데이터(x_test)의 이미지 개수는\", idx, \"입니다.\")\n",
    "    return imgs_, labels_"
   ]
  },
  {
   "cell_type": "code",
   "execution_count": 257,
   "id": "aa98dbd6",
   "metadata": {},
   "outputs": [
    {
     "name": "stdout",
     "output_type": "stream",
     "text": [
      "학습데이터(x_test)의 이미지 개수는 300 입니다.\n",
      "x_train shape: (300, 28, 28, 3)\n",
      "y_train shape: (300,)\n"
     ]
    }
   ],
   "source": [
    "image_dir_path = os.getenv(\"HOME\") + \"/aiffel/rock_scissor_paper/test\"\n",
    "(x_test, y_test)=load_data2(image_dir_path, 300)\n",
    "x_test_norm = x_test/255.0   # 입력은 0~1 사이의 값으로 정규화\n",
    "\n",
    "print(\"x_train shape: {}\".format(x_test.shape))\n",
    "print(\"y_train shape: {}\".format(y_test.shape))"
   ]
  },
  {
   "cell_type": "code",
   "execution_count": 258,
   "id": "c2dc6541",
   "metadata": {},
   "outputs": [
    {
     "name": "stdout",
     "output_type": "stream",
     "text": [
      "10/10 - 0s - loss: 3.2713 - accuracy: 0.5800\n",
      "test_loss : 3.2712714672088623\n",
      "test_accuracy : 0.5799999833106995\n"
     ]
    }
   ],
   "source": [
    "# model 추론 결과\n",
    "\n",
    "test_loss, test_accuracy = model.evaluate(x_test_norm, y_test, verbose=2)\n",
    "print(\"test_loss : {}\".format(test_loss))\n",
    "print(\"test_accuracy : {}\".format(test_accuracy))"
   ]
  },
  {
   "cell_type": "markdown",
   "id": "00255032",
   "metadata": {},
   "source": [
    "---\n",
    "\n",
    "## 회고\n",
    "<br>  \n",
    "<br> \n",
    "\n",
    "\n",
    "  ### Keep  \n",
    "\n",
    "- 이것저것 자료를 찾아보려고 노력하고 혼자 애써본 것. 첫 메인퀘스트부터 지금까지 이어지는 것 같다.\n",
    "### Problem  \n",
    "\n",
    "- 막히니까 사고회로가 정지되는 것 또한 익숙해지지 않는다...평균도 낮게 나왔고, 학습시킬 때마다 바뀌는게 여전히 알다가도 모르겠다. 당황하지 말아야하는데 :(\n",
    "### Try  \n",
    "\n",
    "- 의연하게 대처하여 시간을 버리는 일이 없도록 더 노력해야겠다. "
   ]
  },
  {
   "cell_type": "code",
   "execution_count": null,
   "id": "2404d52e",
   "metadata": {},
   "outputs": [],
   "source": []
  }
 ],
 "metadata": {
  "kernelspec": {
   "display_name": "Python 3 (ipykernel)",
   "language": "python",
   "name": "python3"
  },
  "language_info": {
   "codemirror_mode": {
    "name": "ipython",
    "version": 3
   },
   "file_extension": ".py",
   "mimetype": "text/x-python",
   "name": "python",
   "nbconvert_exporter": "python",
   "pygments_lexer": "ipython3",
   "version": "3.9.7"
  }
 },
 "nbformat": 4,
 "nbformat_minor": 5
}
