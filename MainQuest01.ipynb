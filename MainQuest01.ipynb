{
  "nbformat": 4,
  "nbformat_minor": 0,
  "metadata": {
    "colab": {
      "provenance": [],
      "authorship_tag": "ABX9TyPZ/+iQkM9jZP0h0yhKS/Rx",
      "include_colab_link": true
    },
    "kernelspec": {
      "name": "python3",
      "display_name": "Python 3"
    },
    "language_info": {
      "name": "python"
    }
  },
  "cells": [
    {
      "cell_type": "markdown",
      "metadata": {
        "id": "view-in-github",
        "colab_type": "text"
      },
      "source": [
        "<a href=\"https://colab.research.google.com/github/whtnals135/Aiffel_Main_Quest/blob/main/MainQuest01.ipynb\" target=\"_parent\"><img src=\"https://colab.research.google.com/assets/colab-badge.svg\" alt=\"Open In Colab\"/></a>"
      ]
    },
    {
      "cell_type": "code",
      "execution_count": 21,
      "metadata": {
        "colab": {
          "base_uri": "https://localhost:8080/"
        },
        "id": "k-EgUgr169QD",
        "outputId": "9db955c5-70d3-4eb2-b1a6-e368fc235dcb"
      },
      "outputs": [
        {
          "output_type": "stream",
          "name": "stdout",
          "text": [
            "은행이름: SC은행, 예금주: 조수민, 계좌번호: 132-76-645927, 잔고: 1,200,000\n",
            "은행이름: SC은행, 예금주: 정연호, 계좌번호: 597-11-222970, 잔고: 1,000,000\n"
          ]
        }
      ],
      "source": [
        "# 메인 퀘스트 1번 (실패 및 보류)\n",
        "\"\"\"\n",
        "import random\n",
        "class Account:\n",
        "    bank_name = 'SC은행'\n",
        "    # 클래스 변수 0으로 설정\n",
        "    num_account = 0\n",
        "\n",
        "    def __init__(self, myname, balance):\n",
        "        self.myname = myname                    #은행이름은 어디다 넣지????????????????????\n",
        "        self.balance = balance\n",
        "        self.num_create_acc = self.create_acc()\n",
        "        self.deposit_count = 0 # 입금횟수 저장할 변수 지정, 0으로 세팅\n",
        "        # 계좌 하나 만들 때마다 +1\n",
        "        Account.num_account += 1\n",
        "    def create_acc(self):\n",
        "        # 랜덤한 3-2-6자리 계좌 생성\n",
        "        first_nums = str(random.randint(100,999))\n",
        "        second_nums = str(random.randint(10,99))\n",
        "        third_nums = str(random.randint(100000,999999))\n",
        "\n",
        "        num_create_acc = f'{first_nums}-{second_nums}-{third_nums}'\n",
        "        return num_create_acc\n",
        "\n",
        "    # Account 클래스로부터 생성된 계좌의 개수를 출력\n",
        "    def get_account_num(self):\n",
        "        return f'생성된 계좌의 개수: {Account.num_account}'\n",
        "\n",
        "    # 입금 메서드\n",
        "    def deposit(self, amount):\n",
        "        if 1 <= amount:\n",
        "            self.balance += amount\n",
        "            print(f'{self.myname}님, {Account.num_account} 에 {amount}원 입금되었습니다. 현재 잔액은 {self.balance}원 입니다.')\n",
        "\n",
        "            # 입금횟수 5회일 때 1% 이자 입금\n",
        "            if self.deposit_count == 5:\n",
        "                interest = self.balance * 0.01   # 이자1%\n",
        "                self.balance += interest\n",
        "                print(f'현재 잔고 기준의 이자 {interest}원을 입금되었습니다. 현재 잔액은 {self.balance}원 입니다.')\n",
        "                self.deposit_count = 0  # 입금 횟수 초기화하기\n",
        "        else:\n",
        "            print('입금액은 최소 1원 이상만 가능합니다.')\n",
        "\n",
        "\n",
        "    # 출금 메서드\n",
        "    def withdraw(self,release_money):\n",
        "        if self.balance >= release_money: #출금액이 잔고보다 작거나 같을 때\n",
        "            self.balance -= release_money\n",
        "            print(f'{self.myname}님, {Account.bank_name} 에 {release_money}원 출금되었습니다. 남은 잔액은 {self.balance}원 입니다.')\n",
        "        else:\n",
        "            print('출금액은 잔액을 초과할 수 없습니다.')\n",
        "\n",
        "\n",
        "\n",
        "    # 정보 출력 메서드\n",
        "    def display_info(self):\n",
        "        # 세 자리마다 쉼표찍기\n",
        "        formatted_balance = '{:,}'.format(self.balance)\n",
        "        print(f'은행이름: {Account.bank_name}, 예금주: {self.myname}, 계좌번호: {self.num_create_acc}, 잔고: {formatted_balance}')\n",
        "\n",
        "\n",
        "\n",
        "a = [Account('조수민', 1200000), Account('이유리', 500000), Account('정연호', 1000000)]\n",
        "\n",
        "# 잔고가 100만원 이상인 고객의 정보만 출력\n",
        "for account in a:\n",
        "    if account.balance >= 1000000:  #Account 클래스의 인스턴스인 account의 balance 속성\n",
        "        account.display_info()\n",
        "\"\"\""
      ]
    },
    {
      "cell_type": "code",
      "source": [
        "# 메인퀘스트 1번\n",
        "import random\n",
        "class Account:\n",
        "    bank_name = 'SC은행'\n",
        "    # 클래스 변수 0으로 설정\n",
        "    num_account = 0\n",
        "\n",
        "    def __init__(self, myname, balance):\n",
        "        self.myname = myname                    #은행이름은 어디다 넣지????????????????????\n",
        "        self.balance = balance\n",
        "        self.num_create_acc = self.create_acc()\n",
        "        self.deposit_count = 0 # 입금횟수 저장할 변수 지정, 0으로 세팅\n",
        "        self.deposit_history_list = [] # 입금 내역 저장할 빈 리스트\n",
        "        self.withdraw_history_list = []  # 출금 내역 저장할 빈 리스트\n",
        "        # 계좌 하나 만들 때마다 +1\n",
        "        Account.num_account += 1\n",
        "    def create_acc(self):\n",
        "        # 랜덤한 3-2-6자리 계좌 생성\n",
        "        first_nums = str(random.randint(100,999))\n",
        "        second_nums = str(random.randint(10,99))\n",
        "        third_nums = str(random.randint(100000,999999))\n",
        "\n",
        "        num_create_acc = f'{first_nums}-{second_nums}-{third_nums}'\n",
        "        return num_create_acc\n",
        "\n",
        "    # Account 클래스로부터 생성된 계좌의 개수를 출력\n",
        "    def get_account_num(self):\n",
        "        return f'생성된 계좌의 개수: {Account.num_account}'\n",
        "\n",
        "    # 입금 메서드\n",
        "    def deposit(self, amount):\n",
        "        if 1 <= amount:\n",
        "            self.balance += amount\n",
        "            self.deposit_count += 1\n",
        "            self.deposit_history_list.append(amount) # 입금 내역에 추가\n",
        "            print(f'{self.myname}님, {Account.num_account} 에 {amount}원 입금되었습니다. 현재 잔액은 {self.balance}원 입니다.')\n",
        "\n",
        "            # 입금횟수 5회일 때 1% 이자 입금\n",
        "            if self.deposit_count == 5:\n",
        "                interest = self.balance * 0.01   # 이자1%\n",
        "                self.balance += interest\n",
        "                print(f'현재 잔고 기준의 이자 {interest}원을 입금되었습니다. 현재 잔액은 {self.balance}원 입니다.')\n",
        "                self.deposit_count = 0  # 입금 횟수 초기화하기\n",
        "        else:\n",
        "            print('입금액은 최소 1원 이상만 가능합니다.')\n",
        "\n",
        "    # 출금 메서드\n",
        "    def withdraw(self,release_money):\n",
        "        if self.balance >= release_money: #출금액이 잔고보다 작거나 같을 때\n",
        "            self.balance -= release_money\n",
        "            self.withdraw_history_list.append(release_money) # 출금 내역에 추가\n",
        "            print(f'{self.myname}님, {Account.bank_name} 에 {release_money}원 출금되었습니다. 남은 잔액은 {self.balance}원 입니다.')\n",
        "        else:\n",
        "            print('잔액이 부족합니다.')\n",
        "\n",
        "    # 정보 출력 메서드\n",
        "    def display_info(self):\n",
        "        # 세 자리마다 쉼표찍기\n",
        "        formatted_balance = '{:,}'.format(self.balance)\n",
        "        print(f'은행이름: {Account.bank_name}, 예금주: {self.myname}, 계좌번호: {self.num_create_acc}, 잔고: {formatted_balance}')\n",
        "\n",
        "    # 입금 내역 메서드\n",
        "    def deposit_history(self):\n",
        "        print(f'{self.myname}님의 입금 내역: ')\n",
        "        for i, amount in enumerate(self.deposit_history_list, start = 1): # enumerate 함수에서 시작 숫자를 1부터 하겠다는 뜻\n",
        "            print(f'{i}. {amount}원 입금')\n",
        "\n",
        "    # 출금 내역 메서드\n",
        "    def withdraw_history(self):\n",
        "        print(f'{self.myname}의 출금 내역: ')\n",
        "        for m, release_money in enumerate(self.withdraw_history_list, start = 1):\n",
        "            print(f'{m}. {release_money}원 출금')\n",
        "\n",
        "a = Account('조수민', 10000)\n",
        "print(f'은행이름: {Account.bank_name},계좌번호: {a.num_create_acc}')\n",
        "print(a.get_account_num())\n",
        "a.deposit(40000)\n",
        "a.deposit(20000)\n",
        "a.withdraw(30000)\n",
        "a.withdraw(10000)\n",
        "a.display_info()\n",
        "a.deposit_history()\n",
        "a.withdraw_history()\n",
        "print('*' * 50)\n",
        "# 인스턴스 3개 생성해서 리스트에 저장하기\n",
        "b = [Account('정예원', 1200000), Account('이유리', 500000), Account('정연호', 1000000)]\n",
        "\n",
        "# 잔고가 100만원 이상인 고객의 정보만 출력\n",
        "for account in b:\n",
        "    if account.balance >= 1000000:  #Account 클래스의 인스턴스인 account의 balance 속성\n",
        "        account.display_info()"
      ],
      "metadata": {
        "colab": {
          "base_uri": "https://localhost:8080/"
        },
        "id": "IagJ6U-G9R-O",
        "outputId": "daf569ad-137a-4e3b-f135-f6fb04368d6a"
      },
      "execution_count": 42,
      "outputs": [
        {
          "output_type": "stream",
          "name": "stdout",
          "text": [
            "은행이름: SC은행,계좌번호: 336-85-142258\n",
            "생성된 계좌의 개수: 1\n",
            "조수민님, 1 에 40000원 입금되었습니다. 현재 잔액은 50000원 입니다.\n",
            "조수민님, 1 에 20000원 입금되었습니다. 현재 잔액은 70000원 입니다.\n",
            "조수민님, SC은행 에 30000원 출금되었습니다. 남은 잔액은 40000원 입니다.\n",
            "조수민님, SC은행 에 10000원 출금되었습니다. 남은 잔액은 30000원 입니다.\n",
            "은행이름: SC은행, 예금주: 조수민, 계좌번호: 336-85-142258, 잔고: 30,000\n",
            "조수민님의 입금 내역: \n",
            "1. 40000원 입금\n",
            "2. 20000원 입금\n",
            "조수민의 출금 내역: \n",
            "1. 30000원 출금\n",
            "2. 10000원 출금\n",
            "**************************************************\n",
            "은행이름: SC은행, 예금주: 정예원, 계좌번호: 597-84-637833, 잔고: 1,200,000\n",
            "은행이름: SC은행, 예금주: 정연호, 계좌번호: 176-33-195796, 잔고: 1,000,000\n"
          ]
        }
      ]
    },
    {
      "cell_type": "markdown",
      "source": [
        "-  ## K  \n",
        " 어제 배운 클래스라는 개념이라서 엄청 낯설지는 않았다. 큰 틀을 작성해두고 필요 조건에 맞는 메소드를 추가하며 수정하는 것이 재미있었다.\n",
        "\n",
        "-  ## P\n",
        " 이자 지급하는 부분에서 방대한 정보량을 마주하며 당황했다. 찾아보고 입력한 것이 많아서 다시 혼자 코드를 짜보라고 하면 많이 어려울 것 같다..\n",
        "\n",
        "- ## T  \n",
        "\n",
        "이것저것 기억나는 메소드를 사용해보려고 했다. 코드가 길어지니 확실히 어디가 문제인지 파악하는데도 시간이 걸린다\n"
      ],
      "metadata": {
        "id": "m01w6r8LCk2w"
      }
    },
    {
      "cell_type": "markdown",
      "source": [
        "# 메인 퀘스트 2번 문제  \n",
        "###  학번과 점수를 관리할 수 있는 Aiffel 클래스\n",
        "\n"
      ],
      "metadata": {
        "id": "AySCQTR5fvBu"
      }
    },
    {
      "cell_type": "code",
      "source": [
        "class Aiffel:\n",
        "    nums_id = 0\n",
        "    student_list = {'강영현': 0, '김경민': 0, '김민기': 0, '김승순': 0, '김양희': 0, '김영신': 0, '오우진': 0, '윤혜윤': 0, '이상원': 0, '이선재': 0, '이슬': 0,\\\n",
        "                    '이승환': 0, '전민규': 0, '조보겸': 0,\\\n",
        "                    '조수민': 0, '최강훈': 0, '한현종': 0, '홍채림': 0} #클래스 안에 명단 넣기\n",
        "    def __init__(self, name, year, generation, course):\n",
        "        self.name = name # 이름\n",
        "        self.year = year # 입학년도\n",
        "        self.generation = generation # 기수\n",
        "        self.course = course #과정\n",
        "        self.student_id = self.generate_student_id() # 학번 생성\n",
        "\n",
        "\n",
        "    # 학번 생성 메서드 만들기 ㅜㅜ\n",
        "    def generate_student_id(self):\n",
        "        YY = self.year[-2:]\n",
        "        NN = self.generation\n",
        "        if self.course == '리서치' or self.course == 1:\n",
        "            C = 1\n",
        "        else:\n",
        "            C = 2\n",
        "        # @classmethod를 사용해야하나??\n",
        "        student_name = list(Aiffel.student_list.keys()) # 키값=이름만 뽑아오기\n",
        "        student_name.sort() # 정렬하고\n",
        "        XX = student_name.index(self.name)+1 # 가나다순으로 이름 번호뽑아오기\n",
        "        return f'{YY}{NN}{C}{XX}'\n",
        "\n",
        "\n",
        "a = Aiffel('조수민', '2023', '29', '코어')\n",
        "print(a.student_id)\n"
      ],
      "metadata": {
        "colab": {
          "base_uri": "https://localhost:8080/"
        },
        "id": "9yZ0vtPubUlQ",
        "outputId": "45e220e4-bd53-41c9-8d53-947935b32cef"
      },
      "execution_count": 48,
      "outputs": [
        {
          "output_type": "stream",
          "name": "stdout",
          "text": [
            "2329214\n"
          ]
        }
      ]
    },
    {
      "cell_type": "markdown",
      "source": [
        "-  ## K  \n",
        " 문제 한 단어 한 단어가 무슨 말인지 이해가 안갔지만 일단 도전하고 시도해봤다.\n",
        "\n",
        "-  ## P\n",
        " 문제의 의도를 파악하기 위해서 조건들을 처음부터 끝까지 다 읽어 보는데 읽을 수록 무엇을 원하는지는 알겠지만 어떤 메서드를 사용해야하는지 이해가 안갔다. 이니셜라이저에서는 4개의 인자를 받는다고 했는데 Q1에서는 코어 명단(딕셔너리)를 입력받아 학번을 만드는 메서드를 만들라고 하는데 그럼 한명씩만 만들 수 있는 것 아닌가?하는 생각에 약 90분을 우왕좌왕했다.   이게 내가 배운 과정인지도 모르겠는 지경에 멘탈 관리가 힘들었다.  이게 맞나 싶기도 하고,, 어쨋든 퀘스트를 다 완성하지 못한 것이 아쉽다.  \n",
        "\n",
        "- ## T  \n",
        "\n",
        "이것저것 기억나는 메소드를 사용해보려고 했다.\n"
      ],
      "metadata": {
        "id": "wZBrb-H5gXT0"
      }
    }
  ]
}